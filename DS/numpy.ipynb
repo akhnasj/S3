{
 "cells": [
  {
   "cell_type": "markdown",
   "id": "a3063fd4-8324-4d8a-bcfe-e774424846d2",
   "metadata": {},
   "source": [
    "# NumPy\n",
    "NumPy (**Numerical Python**) is a powerful library for numerical computing in Python. It provides support for arrays, matrices, and many mathematical functions to operate on these data structures efficiently."
   ]
  },
  {
   "cell_type": "code",
   "execution_count": 7,
   "id": "78bf417f-99cd-46e9-b1ee-dfa445a5ba59",
   "metadata": {},
   "outputs": [],
   "source": [
    "import numpy as np"
   ]
  },
  {
   "cell_type": "code",
   "execution_count": 35,
   "id": "665b47d3-d241-4c7d-b67c-a7406ec2a9f7",
   "metadata": {},
   "outputs": [
    {
     "name": "stdout",
     "output_type": "stream",
     "text": [
      "1D array: [1 2 3 4 5]\n",
      "2D array:\n",
      " [[1 2 3]\n",
      " [4 5 6]]\n",
      "Sum of array: 15\n",
      "Mean of array: 3.0\n",
      "Element-wise addition: [11 12 13 14 15]\n",
      "Matrix Multiplication:\n",
      " [[14 32]\n",
      " [32 77]]\n",
      "Broadcasting:\n",
      " [[2 4 6]\n",
      " [5 7 9]]\n"
     ]
    }
   ],
   "source": [
    "# Create 1D array\n",
    "a = np.array([1, 2, 3, 4, 5])\n",
    "print(\"1D array:\", a)\n",
    "\n",
    "# Create 2D array\n",
    "b = np.array([[1, 2, 3], [4, 5, 6]])\n",
    "print(\"2D array:\\n\", b)\n",
    "\n",
    "# Perform basic operations\n",
    "sum_array = np.sum(a)\n",
    "print(\"Sum of array:\", sum_array)\n",
    "mean_array = np.mean(a)\n",
    "print(\"Mean of array:\", mean_array)\n",
    "\n",
    "# Perform element-wise addition\n",
    "c = a + 10\n",
    "print(\"Element-wise addition:\", c)\n",
    "\n",
    "# Matrix multiplication\n",
    "d = np.dot(b, b.T)\n",
    "print(\"Matrix Multiplication:\\n\", d)\n",
    "\n",
    "# Broadcasting: Perform operations on 2 arrays with different shapes\n",
    "e = b + a[:3]\n",
    "print(\"Broadcasting:\\n\", e)"
   ]
  },
  {
   "cell_type": "markdown",
   "id": "362c1935-f809-4367-ad15-87538d23dcfc",
   "metadata": {},
   "source": [
    "### 1. Element-wise comparison of two arrays"
   ]
  },
  {
   "cell_type": "code",
   "execution_count": 52,
   "id": "f53d7bd2-e16d-4319-9ef4-96d38629b215",
   "metadata": {},
   "outputs": [
    {
     "name": "stdout",
     "output_type": "stream",
     "text": [
      "Array 1: [1 2 3]\n",
      "Array 2: [5 1 3]\n",
      "Greater: [False  True False]\n",
      "Greater than or equal: [False  True  True]\n",
      "Less: [ True False False]\n",
      "Less than or equal: [ True False  True]\n",
      "Equal: [False False  True]\n"
     ]
    }
   ],
   "source": [
    "a1 = np.array([1, 2, 3])\n",
    "a2 = np.array([5, 1, 3])\n",
    "\n",
    "print(\"Array 1:\", a1)\n",
    "print(\"Array 2:\", a2)\n",
    "\n",
    "print(\"Greater:\", np.greater(a1, a2))\n",
    "print(\"Greater than or equal:\", np.greater_equal(a1, a2))\n",
    "\n",
    "print(\"Less:\", np.less(a1, a2))\n",
    "print(\"Less than or equal:\", np.less_equal(a1, a2))\n",
    "\n",
    "print(\"Equal:\", np.equal(a1, a2))\n"
   ]
  },
  {
   "cell_type": "markdown",
   "id": "3faee19d-d967-4d35-8603-59f0f948bb8a",
   "metadata": {},
   "source": [
    "### 2. Array of all even integers from 30 to 70"
   ]
  },
  {
   "cell_type": "code",
   "execution_count": 63,
   "id": "fb0f8166-6569-4567-8786-15b3d1a0fe36",
   "metadata": {},
   "outputs": [
    {
     "data": {
      "text/plain": [
       "array([30, 32, 34, 36, 38, 40, 42, 44, 46, 48, 50, 52, 54, 56, 58, 60, 62,\n",
       "       64, 66, 68, 70])"
      ]
     },
     "execution_count": 63,
     "metadata": {},
     "output_type": "execute_result"
    }
   ],
   "source": [
    "np.arange(30, 71, 2)\n",
    "# a = np.arange(30, 71, 2)\n",
    "# print(a)"
   ]
  },
  {
   "cell_type": "code",
   "execution_count": null,
   "id": "4aadb564-41ab-4466-a799-14753ce9b2fa",
   "metadata": {},
   "outputs": [],
   "source": []
  }
 ],
 "metadata": {
  "kernelspec": {
   "display_name": "Python 3 (ipykernel)",
   "language": "python",
   "name": "python3"
  },
  "language_info": {
   "codemirror_mode": {
    "name": "ipython",
    "version": 3
   },
   "file_extension": ".py",
   "mimetype": "text/x-python",
   "name": "python",
   "nbconvert_exporter": "python",
   "pygments_lexer": "ipython3",
   "version": "3.12.4"
  }
 },
 "nbformat": 4,
 "nbformat_minor": 5
}
