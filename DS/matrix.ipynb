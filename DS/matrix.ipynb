{
 "cells": [
  {
   "cell_type": "markdown",
   "id": "9bee6387-68db-47de-83d8-e2b47caff35f",
   "metadata": {},
   "source": [
    "# Matrix Operations"
   ]
  },
  {
   "cell_type": "code",
   "execution_count": 2,
   "id": "70c3c3a5-0b31-4c0e-a30c-0e528180b826",
   "metadata": {},
   "outputs": [],
   "source": [
    "import numpy as np"
   ]
  },
  {
   "cell_type": "code",
   "execution_count": 31,
   "id": "fa598a65-591f-4b56-a0eb-0e7e0a49ebee",
   "metadata": {},
   "outputs": [],
   "source": [
    "a = np.array(([1, 2], [3, 4]))\n",
    "b = np.array(([5, 6], [7, 8]))"
   ]
  },
  {
   "cell_type": "markdown",
   "id": "2c87aec8-3bce-42ec-b000-81cbce787583",
   "metadata": {},
   "source": [
    "#### 1. Read a matrix"
   ]
  },
  {
   "cell_type": "code",
   "execution_count": 37,
   "id": "a6df6f2f-4e9f-489f-9a4e-512f10937c2d",
   "metadata": {},
   "outputs": [
    {
     "name": "stdin",
     "output_type": "stream",
     "text": [
      "No of rows: 2\n",
      "No of columns: 3\n",
      " 1\n",
      " 2\n",
      " 3\n",
      " 4\n",
      " 5\n",
      " 6\n"
     ]
    },
    {
     "data": {
      "text/plain": [
       "array([[1, 2, 3],\n",
       "       [4, 5, 6]])"
      ]
     },
     "execution_count": 37,
     "metadata": {},
     "output_type": "execute_result"
    }
   ],
   "source": [
    "m = int(input(\"No of rows:\"))\n",
    "n = int(input(\"No of columns:\"))\n",
    "\n",
    "# Read a 1D list of size m * n, convert it to a numpy array and reshape it into m x n\n",
    "matrix = np.array([int(input()) for _ in range(m * n)]).reshape(m, n)\n",
    "matrix"
   ]
  },
  {
   "cell_type": "markdown",
   "id": "3b99cfb5-9846-4b0d-8959-9371be93ee95",
   "metadata": {},
   "source": [
    "#### 2. Dot Product"
   ]
  },
  {
   "cell_type": "code",
   "execution_count": 33,
   "id": "f6e80edc-0643-419e-8299-a74b62968708",
   "metadata": {},
   "outputs": [
    {
     "data": {
      "text/plain": [
       "array([[19, 22],\n",
       "       [43, 50]])"
      ]
     },
     "execution_count": 33,
     "metadata": {},
     "output_type": "execute_result"
    }
   ],
   "source": [
    "# Element-wise multiplication\n",
    "a.dot(b)"
   ]
  },
  {
   "cell_type": "markdown",
   "id": "cde00320-f13b-4efa-8934-ea8bcab0c05b",
   "metadata": {},
   "source": [
    "#### 3. Transpose"
   ]
  },
  {
   "cell_type": "code",
   "execution_count": 52,
   "id": "aea9fb46-1401-4a0e-aa24-4a8bf6a97ffe",
   "metadata": {},
   "outputs": [
    {
     "data": {
      "text/plain": [
       "array([[1, 3],\n",
       "       [2, 4]])"
      ]
     },
     "execution_count": 52,
     "metadata": {},
     "output_type": "execute_result"
    }
   ],
   "source": [
    "# Swap the rows and columns\n",
    "a.transpose()         # a.T\n"
   ]
  },
  {
   "cell_type": "markdown",
   "id": "e13e03b5-b3d9-4350-a062-f8a15601767f",
   "metadata": {},
   "source": [
    "#### 4. Flattened"
   ]
  },
  {
   "cell_type": "code",
   "execution_count": 58,
   "id": "4f864c49-7a6c-4c17-96b4-706366deec81",
   "metadata": {},
   "outputs": [
    {
     "data": {
      "text/plain": [
       "array([1, 2, 3, 4])"
      ]
     },
     "execution_count": 58,
     "metadata": {},
     "output_type": "execute_result"
    }
   ],
   "source": [
    "# Convert 2D array to 1D array\n",
    "a.flatten()"
   ]
  },
  {
   "cell_type": "markdown",
   "id": "b21ec19e-d3d6-44e7-afd3-ec9a83099b6b",
   "metadata": {},
   "source": [
    "#### 5. Trace"
   ]
  },
  {
   "cell_type": "code",
   "execution_count": 61,
   "id": "c0634deb-8b29-45cc-adaa-295d4b45c383",
   "metadata": {},
   "outputs": [
    {
     "data": {
      "text/plain": [
       "5"
      ]
     },
     "execution_count": 61,
     "metadata": {},
     "output_type": "execute_result"
    }
   ],
   "source": [
    "# Sum of diagonal elements\n",
    "a.trace()"
   ]
  },
  {
   "cell_type": "markdown",
   "id": "86dd5273-4466-450e-922e-57eba07cd237",
   "metadata": {},
   "source": [
    "#### 6. Rank"
   ]
  },
  {
   "cell_type": "code",
   "execution_count": 67,
   "id": "b1607741-a0d8-42f4-af3e-1cb48efc4d61",
   "metadata": {},
   "outputs": [
    {
     "data": {
      "text/plain": [
       "2"
      ]
     },
     "execution_count": 67,
     "metadata": {},
     "output_type": "execute_result"
    }
   ],
   "source": [
    "# Maximum number of linearly independent rows or columns (matrix's uniqueness score)\n",
    "np.linalg.matrix_rank(a)"
   ]
  },
  {
   "cell_type": "markdown",
   "id": "59c67dcf-a686-4a5a-b4c9-e8118f8f503c",
   "metadata": {},
   "source": [
    "#### 7. Determinant"
   ]
  },
  {
   "cell_type": "code",
   "execution_count": 72,
   "id": "59f072cc-aadc-4a88-9097-f60525cda7f3",
   "metadata": {},
   "outputs": [
    {
     "data": {
      "text/plain": [
       "-2.0000000000000004"
      ]
     },
     "execution_count": 72,
     "metadata": {},
     "output_type": "execute_result"
    }
   ],
   "source": [
    "# Single number that reflects several important properties of the matrix\n",
    "np.linalg.det(a)"
   ]
  },
  {
   "cell_type": "markdown",
   "id": "7db60057-82d2-410b-84c1-f23f50dad68d",
   "metadata": {},
   "source": [
    "#### 8. Inverse"
   ]
  },
  {
   "cell_type": "code",
   "execution_count": 77,
   "id": "f666a51f-7f21-43bd-bf26-7caac276e95b",
   "metadata": {},
   "outputs": [
    {
     "data": {
      "text/plain": [
       "array([[-2. ,  1. ],\n",
       "       [ 1.5, -0.5]])"
      ]
     },
     "execution_count": 77,
     "metadata": {},
     "output_type": "execute_result"
    }
   ],
   "source": [
    "# Matrix equivalent of a reciprocal, multiplying a matrix by its inverse gives you the identity matrix (undoes what the original matrix did)\n",
    "np.linalg.inv(a)"
   ]
  },
  {
   "cell_type": "markdown",
   "id": "98e3c15e-3294-4edb-8df7-2483e11a18a6",
   "metadata": {},
   "source": [
    "#### 9. Eigenvalues and Eigenvectors"
   ]
  },
  {
   "cell_type": "code",
   "execution_count": 92,
   "id": "b8fd8679-51da-45ed-9875-f7654ffbf8d3",
   "metadata": {},
   "outputs": [
    {
     "data": {
      "text/plain": [
       "EigResult(eigenvalues=array([-0.37228132,  5.37228132]), eigenvectors=array([[-0.82456484, -0.41597356],\n",
       "       [ 0.56576746, -0.90937671]]))"
      ]
     },
     "execution_count": 92,
     "metadata": {},
     "output_type": "execute_result"
    }
   ],
   "source": [
    "# Eigenvector is a direction that doesn’t change under the transformation, just stretches or shrinks. \n",
    "# Eigenvalue is how much it stretches or shrinks in that direction.\n",
    "\n",
    "res = np.linalg.eig(a)\n",
    "res\n",
    "\n",
    "# res contains both eigenvalues and eigenvectors\n",
    "# np.linalg.eig(a)[0] : Eigenbvalues\n",
    "# np.linalg.eig(a)[1] : Eigenvectors"
   ]
  },
  {
   "cell_type": "code",
   "execution_count": 84,
   "id": "9af7bf3e-95ea-4dbf-b56f-5a10abe7e21d",
   "metadata": {},
   "outputs": [
    {
     "name": "stdout",
     "output_type": "stream",
     "text": [
      "Eigen Values: [-0.37228132  5.37228132]\n",
      "Eigen Vectors:\n",
      " [[-0.82456484 -0.41597356]\n",
      " [ 0.56576746 -0.90937671]]\n"
     ]
    }
   ],
   "source": [
    "print(\"Eigenvalues:\", res[0])\n",
    "print(\"Eigenvectors:\\n\", res[1])"
   ]
  }
 ],
 "metadata": {
  "kernelspec": {
   "display_name": "Python 3 (ipykernel)",
   "language": "python",
   "name": "python3"
  },
  "language_info": {
   "codemirror_mode": {
    "name": "ipython",
    "version": 3
   },
   "file_extension": ".py",
   "mimetype": "text/x-python",
   "name": "python",
   "nbconvert_exporter": "python",
   "pygments_lexer": "ipython3",
   "version": "3.12.4"
  }
 },
 "nbformat": 4,
 "nbformat_minor": 5
}
