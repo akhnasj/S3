{
 "cells": [
  {
   "cell_type": "markdown",
   "id": "a3063fd4-8324-4d8a-bcfe-e774424846d2",
   "metadata": {},
   "source": [
    "# NumPy\n",
    "NumPy (**Numerical Python**) is a powerful library for numerical computing in Python. It provides support for arrays, matrices, and many mathematical functions to operate on these data structures efficiently."
   ]
  },
  {
   "cell_type": "code",
   "execution_count": 1,
   "id": "78bf417f-99cd-46e9-b1ee-dfa445a5ba59",
   "metadata": {},
   "outputs": [],
   "source": [
    "import numpy as np"
   ]
  },
  {
   "cell_type": "code",
   "execution_count": 35,
   "id": "665b47d3-d241-4c7d-b67c-a7406ec2a9f7",
   "metadata": {},
   "outputs": [
    {
     "name": "stdout",
     "output_type": "stream",
     "text": [
      "1D array: [1 2 3 4 5]\n",
      "2D array:\n",
      " [[1 2 3]\n",
      " [4 5 6]]\n",
      "Sum of array: 15\n",
      "Mean of array: 3.0\n",
      "Element-wise addition: [11 12 13 14 15]\n",
      "Matrix Multiplication:\n",
      " [[14 32]\n",
      " [32 77]]\n",
      "Broadcasting:\n",
      " [[2 4 6]\n",
      " [5 7 9]]\n"
     ]
    }
   ],
   "source": [
    "# Create 1D array\n",
    "a = np.array([1, 2, 3, 4, 5])\n",
    "print(\"1D array:\", a)\n",
    "\n",
    "# Create 2D array\n",
    "b = np.array([[1, 2, 3], [4, 5, 6]])\n",
    "print(\"2D array:\\n\", b)\n",
    "\n",
    "# Perform basic operations\n",
    "sum_array = np.sum(a)\n",
    "print(\"Sum of array:\", sum_array)\n",
    "mean_array = np.mean(a)\n",
    "print(\"Mean of array:\", mean_array)\n",
    "\n",
    "# Perform element-wise addition\n",
    "c = a + 10\n",
    "print(\"Element-wise addition:\", c)\n",
    "\n",
    "# Matrix multiplication\n",
    "d = np.dot(b, b.T)\n",
    "print(\"Matrix Multiplication:\\n\", d)\n",
    "\n",
    "# Broadcasting: Perform operations on 2 arrays with different shapes\n",
    "e = b + a[:3]\n",
    "print(\"Broadcasting:\\n\", e)"
   ]
  },
  {
   "cell_type": "markdown",
   "id": "362c1935-f809-4367-ad15-87538d23dcfc",
   "metadata": {},
   "source": [
    "### 1. Element-wise comparison of two arrays."
   ]
  },
  {
   "cell_type": "code",
   "execution_count": 52,
   "id": "f53d7bd2-e16d-4319-9ef4-96d38629b215",
   "metadata": {},
   "outputs": [
    {
     "name": "stdout",
     "output_type": "stream",
     "text": [
      "Array 1: [1 2 3]\n",
      "Array 2: [5 1 3]\n",
      "Greater: [False  True False]\n",
      "Greater than or equal: [False  True  True]\n",
      "Less: [ True False False]\n",
      "Less than or equal: [ True False  True]\n",
      "Equal: [False False  True]\n"
     ]
    }
   ],
   "source": [
    "a1 = np.array([1, 2, 3])\n",
    "a2 = np.array([5, 1, 3])\n",
    "\n",
    "print(\"Array 1:\", a1)\n",
    "print(\"Array 2:\", a2)\n",
    "\n",
    "print(\"Greater:\", np.greater(a1, a2))\n",
    "print(\"Greater than or equal:\", np.greater_equal(a1, a2))\n",
    "\n",
    "print(\"Less:\", np.less(a1, a2))\n",
    "print(\"Less than or equal:\", np.less_equal(a1, a2))\n",
    "\n",
    "print(\"Equal:\", np.equal(a1, a2))\n"
   ]
  },
  {
   "cell_type": "markdown",
   "id": "3faee19d-d967-4d35-8603-59f0f948bb8a",
   "metadata": {},
   "source": [
    "### 2. Array of all even integers from 30 to 70."
   ]
  },
  {
   "cell_type": "code",
   "execution_count": 63,
   "id": "fb0f8166-6569-4567-8786-15b3d1a0fe36",
   "metadata": {},
   "outputs": [
    {
     "data": {
      "text/plain": [
       "array([30, 32, 34, 36, 38, 40, 42, 44, 46, 48, 50, 52, 54, 56, 58, 60, 62,\n",
       "       64, 66, 68, 70])"
      ]
     },
     "execution_count": 63,
     "metadata": {},
     "output_type": "execute_result"
    }
   ],
   "source": [
    "np.arange(30, 71, 2)\n",
    "# a = np.arange(30, 71, 2)\n",
    "# print(a)"
   ]
  },
  {
   "cell_type": "markdown",
   "id": "4c8dea60-69ce-4254-94b1-cf7065801392",
   "metadata": {},
   "source": [
    "### 3. 3x3 identity matrix."
   ]
  },
  {
   "cell_type": "code",
   "execution_count": 10,
   "id": "4aadb564-41ab-4466-a799-14753ce9b2fa",
   "metadata": {},
   "outputs": [
    {
     "data": {
      "text/plain": [
       "array([[1., 0., 0.],\n",
       "       [0., 1., 0.],\n",
       "       [0., 0., 1.]])"
      ]
     },
     "execution_count": 10,
     "metadata": {},
     "output_type": "execute_result"
    }
   ],
   "source": [
    "np.identity(3)"
   ]
  },
  {
   "cell_type": "markdown",
   "id": "52ae9e9e-1649-4e54-8f06-81e44787e67d",
   "metadata": {},
   "source": [
    "### 4. Create a vector with values from 0 to 20 and change the sign of the numbers in the range from 9 to 15."
   ]
  },
  {
   "cell_type": "code",
   "execution_count": 12,
   "id": "2343d799-78ec-4027-aa9f-79eadb04b1db",
   "metadata": {},
   "outputs": [
    {
     "name": "stdout",
     "output_type": "stream",
     "text": [
      "Original: [ 0  1  2  3  4  5  6  7  8  9 10 11 12 13 14 15 16 17 18 19 20]\n",
      "Modified: [  0   1   2   3   4   5   6   7   8  -9 -10 -11 -12 -13 -14 -15  16  17\n",
      "  18  19  20]\n"
     ]
    }
   ],
   "source": [
    "vector = np.arange(21)\n",
    "print(\"Original:\", vector)\n",
    "\n",
    "vector[(vector >= 9) & (vector <= 15)] *= -1\n",
    "print(\"Modified:\", vector)"
   ]
  },
  {
   "cell_type": "markdown",
   "id": "0375bab0-332f-482a-befc-55ac21815781",
   "metadata": {},
   "source": [
    "### 5. Create a 5x5 zero matrix with elements on the main diagonal equal to 1, 2, 3, 4, 5."
   ]
  },
  {
   "cell_type": "code",
   "execution_count": 28,
   "id": "0b9eae87-a19c-49e2-8d77-5ede34b48edd",
   "metadata": {},
   "outputs": [
    {
     "data": {
      "text/plain": [
       "array([[1, 0, 0, 0, 0],\n",
       "       [0, 2, 0, 0, 0],\n",
       "       [0, 0, 3, 0, 0],\n",
       "       [0, 0, 0, 4, 0],\n",
       "       [0, 0, 0, 0, 5]])"
      ]
     },
     "execution_count": 28,
     "metadata": {},
     "output_type": "execute_result"
    }
   ],
   "source": [
    "np.diag(np.arange(1, 6))"
   ]
  },
  {
   "cell_type": "markdown",
   "id": "affeecbb-a181-4c74-9bdf-cdfb33da9af7",
   "metadata": {},
   "source": [
    "### 6. Compute the sum of all elements, sum of each column and sum of each row of a given array."
   ]
  },
  {
   "cell_type": "code",
   "execution_count": 32,
   "id": "fa238863-87d6-4ce4-8020-56112833bd95",
   "metadata": {},
   "outputs": [
    {
     "name": "stdout",
     "output_type": "stream",
     "text": [
      "Sum: 21\n",
      "Row sum: [ 6 15]\n",
      "Column sum: [5 7 9]\n"
     ]
    }
   ],
   "source": [
    "a = np.array([[1, 2, 3], [4, 5, 6]])\n",
    "print(\"Sum:\", a.sum())\n",
    "print(\"Row sum:\", a.sum(axis=1))\n",
    "print(\"Column sum:\", a.sum(axis=0))"
   ]
  },
  {
   "cell_type": "markdown",
   "id": "b63d3214-2e8d-4d8d-b9c6-d3dde159b887",
   "metadata": {},
   "source": [
    "### 7. Save a given array to a text file and load it."
   ]
  },
  {
   "cell_type": "code",
   "execution_count": 43,
   "id": "483641ee-6301-465d-a9b6-4b8a341aaf55",
   "metadata": {},
   "outputs": [
    {
     "data": {
      "text/plain": [
       "array([[1., 2., 3.],\n",
       "       [4., 5., 6.]])"
      ]
     },
     "execution_count": 43,
     "metadata": {},
     "output_type": "execute_result"
    }
   ],
   "source": [
    "np.savetxt(\"array.txt\", a)\n",
    "np.loadtxt(\"array.txt\")"
   ]
  },
  {
   "cell_type": "markdown",
   "id": "a3b7a240-5952-43a8-bd55-d458fcab67cc",
   "metadata": {},
   "source": [
    "### 8. Check whether two arrays are equal (element-wise) or not."
   ]
  },
  {
   "cell_type": "code",
   "execution_count": 61,
   "id": "e6da986a-c027-4caf-9986-6207ad4366eb",
   "metadata": {},
   "outputs": [
    {
     "name": "stdout",
     "output_type": "stream",
     "text": [
      "False\n",
      "True\n"
     ]
    }
   ],
   "source": [
    "a1 = np.array([1, 2, 3])\n",
    "a2 = np.array([4, 5, 6])\n",
    "\n",
    "print(np.array_equal(a1, a2))\n",
    "print(np.array_equal(a1, a1))"
   ]
  },
  {
   "cell_type": "markdown",
   "id": "391d6c4b-746c-4909-b51c-3256c297aae1",
   "metadata": {},
   "source": [
    "### 9. Create a 4x4 array with random values, now create a new array from the said array swapping first and last rows."
   ]
  },
  {
   "cell_type": "code",
   "execution_count": 53,
   "id": "671ceec3-83a7-4467-8cbe-58e85f973231",
   "metadata": {},
   "outputs": [
    {
     "name": "stdout",
     "output_type": "stream",
     "text": [
      "Original:\n",
      " [[0.60461376 0.97361979 0.56587871 0.88186577]\n",
      " [0.63093951 0.15895584 0.63767046 0.54794874]\n",
      " [0.09331471 0.96798826 0.81404473 0.32813958]\n",
      " [0.37555803 0.17935235 0.63816524 0.66210478]]\n",
      "Swapped:\n",
      " [[0.37555803 0.17935235 0.63816524 0.66210478]\n",
      " [0.63093951 0.15895584 0.63767046 0.54794874]\n",
      " [0.09331471 0.96798826 0.81404473 0.32813958]\n",
      " [0.60461376 0.97361979 0.56587871 0.88186577]]\n"
     ]
    }
   ],
   "source": [
    "a = np.random.rand(4, 4)\n",
    "print(\"Original:\\n\", a)\n",
    "\n",
    "a[[0, 3]] = a[[3, 0]]\n",
    "print(\"Swapped:\\n\", a)"
   ]
  },
  {
   "cell_type": "markdown",
   "id": "bf1b53ad-5c7d-467d-a128-11f3a908f021",
   "metadata": {},
   "source": [
    "### 10. Multiply two given arrays of same size element-by-element."
   ]
  },
  {
   "cell_type": "code",
   "execution_count": 64,
   "id": "a14e883e-ad5c-482d-b2c7-4a3ec1ce9358",
   "metadata": {},
   "outputs": [
    {
     "name": "stdout",
     "output_type": "stream",
     "text": [
      "Array 1: [1 2 3 4 5]\n",
      "Array 2: [1 3 5 7 9]\n",
      "Product: [ 1  6 15 28 45]\n"
     ]
    }
   ],
   "source": [
    "a1, a2 = np.arange(1, 6), np.arange(1, 10, 2)\n",
    "print(\"Array 1:\", a1)\n",
    "print(\"Array 2:\", a2)\n",
    "print(\"Product:\", a1 * a2)"
   ]
  },
  {
   "cell_type": "code",
   "execution_count": null,
   "id": "a1a0c6ff-09b1-49da-a15f-e4960e1eab06",
   "metadata": {},
   "outputs": [],
   "source": []
  }
 ],
 "metadata": {
  "kernelspec": {
   "display_name": "Python 3 (ipykernel)",
   "language": "python",
   "name": "python3"
  },
  "language_info": {
   "codemirror_mode": {
    "name": "ipython",
    "version": 3
   },
   "file_extension": ".py",
   "mimetype": "text/x-python",
   "name": "python",
   "nbconvert_exporter": "python",
   "pygments_lexer": "ipython3",
   "version": "3.12.4"
  }
 },
 "nbformat": 4,
 "nbformat_minor": 5
}
