{
 "cells": [
  {
   "cell_type": "markdown",
   "id": "970cd128-7a29-4622-89a9-a01ba0e640f3",
   "metadata": {},
   "source": [
    "# Pandas\n",
    "Pandas is an open-source data manipulation and analysis library for Python. It provides data structures and functions needed to manipulate structured data seamlessly. Pandas is particularly well-suited for working with tabular data, such as data stored in spreadsheets or databases."
   ]
  },
  {
   "cell_type": "code",
   "execution_count": 45,
   "id": "707bbb7f-5ffb-4cf7-b995-d6523286228e",
   "metadata": {},
   "outputs": [],
   "source": [
    "import pandas as pd\n",
    "import numpy as np"
   ]
  },
  {
   "cell_type": "markdown",
   "id": "327cfc9d-364d-4857-b25e-73b21c75a90d",
   "metadata": {},
   "source": [
    "## 1. DataFrame"
   ]
  },
  {
   "cell_type": "code",
   "execution_count": 43,
   "id": "1b969c12-2e2d-4d61-965e-88802fb23098",
   "metadata": {},
   "outputs": [
    {
     "name": "stdout",
     "output_type": "stream",
     "text": [
      "      Name  Age         City\n",
      "0    Alice   25     New York\n",
      "1      Bob   30  Los Angeles\n",
      "2  Charlie   35      Chicago\n",
      "\n",
      "0      Alice\n",
      "1        Bob\n",
      "2    Charlie\n",
      "Name: Name, dtype: object\n",
      "\n",
      "      Name  Age     City\n",
      "2  Charlie   35  Chicago\n",
      "\n",
      "      Name  Age         City  Salary\n",
      "0    Alice   25     New York   70000\n",
      "1      Bob   30  Los Angeles   80000\n",
      "2  Charlie   35      Chicago   90000\n",
      "\n",
      "        Age   Salary\n",
      "count   3.0      3.0\n",
      "mean   30.0  80000.0\n",
      "std     5.0  10000.0\n",
      "min    25.0  70000.0\n",
      "25%    27.5  75000.0\n",
      "50%    30.0  80000.0\n",
      "75%    32.5  85000.0\n",
      "max    35.0  90000.0\n"
     ]
    }
   ],
   "source": [
    "# Create a DataFrame\n",
    "data = {\n",
    "    'Name': ['Alice', 'Bob', 'Charlie'],\n",
    "    'Age': [25, 30, 35],\n",
    "    'City': ['New York', 'Los Angeles', 'Chicago']\n",
    "}\n",
    "df = pd.DataFrame(data)\n",
    "\n",
    "\n",
    "# Display the DataFrame\n",
    "print(df)            # df\n",
    "print()\n",
    "\n",
    "# Select a column\n",
    "print(df['Name'])\n",
    "print()\n",
    "\n",
    "# Filter rows based on a condition\n",
    "print(df[df['Age'] > 30])\n",
    "print()\n",
    "\n",
    "# Add a new column\n",
    "df['Salary'] = [70000, 80000, 90000]\n",
    "print(df)\n",
    "print()\n",
    "\n",
    "# Calculate summary statistics\n",
    "print(df.describe())"
   ]
  },
  {
   "cell_type": "markdown",
   "id": "ffbc3b69-96ff-4e49-ad3f-a77bcd32ac8f",
   "metadata": {},
   "source": [
    "## 2. Series\n",
    "One-dimensional labeled array, capable of holding any data type (integers, floats, strings, etc.). It’s like a column in a spreadsheet.\\\n",
    "**Labels:**\n",
    "Pandas Series has an index, which acts as labels for each element.\n",
    "NumPy arrays are just indexed by their position.\\\n",
    "**Data Type Flexibility:**\n",
    "Pandas Series can hold multiple data types within the same array.\n",
    "NumPy arrays are typically of a single data type.\\\n",
    "**Functionality:**\n",
    "Series come with a lot of built-in methods for data analysis and handling, like handling missing data.\n",
    "NumPy arrays are more focused on efficient numerical computations."
   ]
  },
  {
   "cell_type": "code",
   "execution_count": 132,
   "id": "923f22f7-4dc8-4a70-82ae-5d604b7c0fbe",
   "metadata": {},
   "outputs": [],
   "source": [
    "labels = ['A', 'B', 'C', 'D']\n",
    "list1 = [1, 2, 3, 4]            # built-in Python list\n",
    "list2 = np.array([40, 50, 60])  # NumPy array, which is more suited for numerical operations\n",
    "dictionary = {\n",
    "    'A': 10,\n",
    "    'B': 20,\n",
    "    'C': 30\n",
    "}"
   ]
  },
  {
   "cell_type": "code",
   "execution_count": 66,
   "id": "3c3a5601-ec6f-4cf2-bcec-bafe9067d1e3",
   "metadata": {},
   "outputs": [
    {
     "data": {
      "text/plain": [
       "0    1\n",
       "1    2\n",
       "2    3\n",
       "3    4\n",
       "dtype: int64"
      ]
     },
     "execution_count": 66,
     "metadata": {},
     "output_type": "execute_result"
    }
   ],
   "source": [
    "pd.Series(data=list1)"
   ]
  },
  {
   "cell_type": "code",
   "execution_count": 68,
   "id": "d5aeebd4-f310-4b93-a86e-5cb38ff85c4f",
   "metadata": {},
   "outputs": [
    {
     "data": {
      "text/plain": [
       "A    1\n",
       "B    2\n",
       "C    3\n",
       "D    4\n",
       "dtype: int64"
      ]
     },
     "execution_count": 68,
     "metadata": {},
     "output_type": "execute_result"
    }
   ],
   "source": [
    "pd.Series(data=list1, index=labels)"
   ]
  },
  {
   "cell_type": "code",
   "execution_count": 72,
   "id": "1a0d9469-1231-47ea-9dfc-331c8ee19c68",
   "metadata": {},
   "outputs": [
    {
     "data": {
      "text/plain": [
       "0    A\n",
       "1    B\n",
       "2    C\n",
       "3    D\n",
       "dtype: object"
      ]
     },
     "execution_count": 72,
     "metadata": {},
     "output_type": "execute_result"
    }
   ],
   "source": [
    "pd.Series(data=labels)"
   ]
  },
  {
   "cell_type": "code",
   "execution_count": 86,
   "id": "07152c0c-fce2-4782-a5bc-aa09bbd3c65f",
   "metadata": {},
   "outputs": [
    {
     "name": "stdout",
     "output_type": "stream",
     "text": [
      "0      <built-in function sum>\n",
      "1    <built-in function print>\n",
      "2      <built-in function len>\n",
      "dtype: object\n"
     ]
    },
    {
     "data": {
      "text/plain": [
       "6"
      ]
     },
     "execution_count": 86,
     "metadata": {},
     "output_type": "execute_result"
    }
   ],
   "source": [
    "series = pd.Series([sum, print, len])\n",
    "print(series)\n",
    "series[0]([1, 2, 3])             # prints the sum "
   ]
  },
  {
   "cell_type": "code",
   "execution_count": 114,
   "id": "6dafd5da-e775-4405-b582-73834646ab8e",
   "metadata": {},
   "outputs": [
    {
     "data": {
      "text/plain": [
       "0    40\n",
       "1    50\n",
       "2    60\n",
       "dtype: int32"
      ]
     },
     "execution_count": 114,
     "metadata": {},
     "output_type": "execute_result"
    }
   ],
   "source": [
    "pd.Series(list2)"
   ]
  },
  {
   "cell_type": "code",
   "execution_count": 275,
   "id": "96ca0233-b564-47f5-9fa4-0892eae6f3bf",
   "metadata": {},
   "outputs": [
    {
     "data": {
      "text/plain": [
       "A    10\n",
       "B    20\n",
       "C    30\n",
       "dtype: int64"
      ]
     },
     "execution_count": 275,
     "metadata": {},
     "output_type": "execute_result"
    }
   ],
   "source": [
    "pd.Series(dictionary)    # pd.DataFrame(dictionary) can't be used directly as values are not in array format\n",
    "# pd.DataFrame(dictionary.items())"
   ]
  },
  {
   "cell_type": "code",
   "execution_count": 122,
   "id": "b4344225-0980-4c99-9aa0-ef40b93db0b6",
   "metadata": {},
   "outputs": [
    {
     "data": {
      "text/plain": [
       "Cars     [BMW, Bugatti, Lamborgini]\n",
       "Color            [Red, Blue, Green]\n",
       "dtype: object"
      ]
     },
     "execution_count": 122,
     "metadata": {},
     "output_type": "execute_result"
    }
   ],
   "source": [
    "dataset = {\n",
    "    \"Cars\": [\"BMW\", \"Bugatti\", \"Lamborgini\"],\n",
    "    \"Color\": [\"Red\", \"Blue\", \"Green\"]\n",
    "     }\n",
    "pd.Series(dataset)"
   ]
  },
  {
   "cell_type": "code",
   "execution_count": 124,
   "id": "c797a3e8-7d87-4180-af80-132892dd783a",
   "metadata": {},
   "outputs": [
    {
     "data": {
      "text/html": [
       "<div>\n",
       "<style scoped>\n",
       "    .dataframe tbody tr th:only-of-type {\n",
       "        vertical-align: middle;\n",
       "    }\n",
       "\n",
       "    .dataframe tbody tr th {\n",
       "        vertical-align: top;\n",
       "    }\n",
       "\n",
       "    .dataframe thead th {\n",
       "        text-align: right;\n",
       "    }\n",
       "</style>\n",
       "<table border=\"1\" class=\"dataframe\">\n",
       "  <thead>\n",
       "    <tr style=\"text-align: right;\">\n",
       "      <th></th>\n",
       "      <th>Cars</th>\n",
       "      <th>Color</th>\n",
       "    </tr>\n",
       "  </thead>\n",
       "  <tbody>\n",
       "    <tr>\n",
       "      <th>0</th>\n",
       "      <td>BMW</td>\n",
       "      <td>Red</td>\n",
       "    </tr>\n",
       "    <tr>\n",
       "      <th>1</th>\n",
       "      <td>Bugatti</td>\n",
       "      <td>Blue</td>\n",
       "    </tr>\n",
       "    <tr>\n",
       "      <th>2</th>\n",
       "      <td>Lamborgini</td>\n",
       "      <td>Green</td>\n",
       "    </tr>\n",
       "  </tbody>\n",
       "</table>\n",
       "</div>"
      ],
      "text/plain": [
       "         Cars  Color\n",
       "0         BMW    Red\n",
       "1     Bugatti   Blue\n",
       "2  Lamborgini  Green"
      ]
     },
     "execution_count": 124,
     "metadata": {},
     "output_type": "execute_result"
    }
   ],
   "source": [
    "pd.DataFrame(dataset)"
   ]
  },
  {
   "cell_type": "code",
   "execution_count": 152,
   "id": "60153d59-ddf6-43fb-b458-eeccfa1ee623",
   "metadata": {},
   "outputs": [
    {
     "name": "stdout",
     "output_type": "stream",
     "text": [
      "Red        Apple\n",
      "Orange    Orange\n",
      "Yellow    Banana\n",
      "Green     Grapes\n",
      "dtype: object \n",
      "\n",
      "   Fruits  Colors\n",
      "0   Apple     Red\n",
      "1  Orange  Orange\n",
      "2  Banana  Yellow\n",
      "3  Grapes   Green\n"
     ]
    }
   ],
   "source": [
    "fruits = [\"Apple\", \"Orange\", \"Banana\", \"Grapes\"]\n",
    "colors = [\"Red\", \"Orange\", \"Yellow\", \"Green\"]\n",
    "\n",
    "print(pd.Series(fruits, colors), \"\\n\")\n",
    "print(pd.DataFrame({'Fruits': fruits, 'Colors': colors}))"
   ]
  },
  {
   "cell_type": "code",
   "execution_count": 154,
   "id": "c0961f53-65ac-430a-abb7-d3e115818df2",
   "metadata": {},
   "outputs": [
    {
     "data": {
      "text/plain": [
       "a    1\n",
       "b    2\n",
       "c    3\n",
       "d    4\n",
       "dtype: int64"
      ]
     },
     "execution_count": 154,
     "metadata": {},
     "output_type": "execute_result"
    }
   ],
   "source": [
    "pd.Series([1, 2, 3, 4], ['a', 'b', 'c', 'd'])"
   ]
  },
  {
   "cell_type": "markdown",
   "id": "3787c53d-9c56-4ace-9c35-1aac6985e01d",
   "metadata": {},
   "source": [
    "## 3. Random"
   ]
  },
  {
   "cell_type": "code",
   "execution_count": 157,
   "id": "eaca777b-ea56-4e3e-8f39-23739d2ad7e2",
   "metadata": {},
   "outputs": [],
   "source": [
    "import random"
   ]
  },
  {
   "cell_type": "code",
   "execution_count": 171,
   "id": "22dc8d0a-4646-411c-a76e-9a166d3137e2",
   "metadata": {},
   "outputs": [
    {
     "name": "stdout",
     "output_type": "stream",
     "text": [
      "First: 79\n",
      "Second: 79\n"
     ]
    }
   ],
   "source": [
    "# Seed is used to save the state of the random generator\n",
    "random.seed(40)                             # 40 is an arbitrary choice\n",
    "print(\"First:\", random.randint(50, 100))    # Prints 79\n",
    "\n",
    "random.seed(40)\n",
    "print(\"Second:\", random.randint(50, 100))   # Prints 79 again\n"
   ]
  },
  {
   "cell_type": "code",
   "execution_count": 175,
   "id": "cff5c6b3-cb3e-45e1-9ca1-07eee14b8a59",
   "metadata": {},
   "outputs": [
    {
     "name": "stdout",
     "output_type": "stream",
     "text": [
      "First: 0.5714025946899135\n",
      "Second: 0.5714025946899135\n"
     ]
    }
   ],
   "source": [
    "random.seed(10)\n",
    "print(\"First:\", random.random())\n",
    "\n",
    "random.seed(10)\n",
    "print(\"Second:\", random.random())"
   ]
  },
  {
   "cell_type": "code",
   "execution_count": 177,
   "id": "f4685cf5-5ab5-4f35-beca-8ada303fd8a0",
   "metadata": {},
   "outputs": [
    {
     "data": {
      "text/html": [
       "<div>\n",
       "<style scoped>\n",
       "    .dataframe tbody tr th:only-of-type {\n",
       "        vertical-align: middle;\n",
       "    }\n",
       "\n",
       "    .dataframe tbody tr th {\n",
       "        vertical-align: top;\n",
       "    }\n",
       "\n",
       "    .dataframe thead th {\n",
       "        text-align: right;\n",
       "    }\n",
       "</style>\n",
       "<table border=\"1\" class=\"dataframe\">\n",
       "  <thead>\n",
       "    <tr style=\"text-align: right;\">\n",
       "      <th></th>\n",
       "      <th>P</th>\n",
       "      <th>Q</th>\n",
       "      <th>R</th>\n",
       "      <th>S</th>\n",
       "    </tr>\n",
       "  </thead>\n",
       "  <tbody>\n",
       "    <tr>\n",
       "      <th>A</th>\n",
       "      <td>-1.273791</td>\n",
       "      <td>0.620852</td>\n",
       "      <td>0.092272</td>\n",
       "      <td>-0.545843</td>\n",
       "    </tr>\n",
       "    <tr>\n",
       "      <th>B</th>\n",
       "      <td>-1.461032</td>\n",
       "      <td>-0.736882</td>\n",
       "      <td>1.318198</td>\n",
       "      <td>-1.598129</td>\n",
       "    </tr>\n",
       "    <tr>\n",
       "      <th>C</th>\n",
       "      <td>0.661423</td>\n",
       "      <td>-0.603724</td>\n",
       "      <td>-0.662586</td>\n",
       "      <td>-0.163146</td>\n",
       "    </tr>\n",
       "    <tr>\n",
       "      <th>D</th>\n",
       "      <td>0.364428</td>\n",
       "      <td>0.019136</td>\n",
       "      <td>-1.158215</td>\n",
       "      <td>0.790234</td>\n",
       "    </tr>\n",
       "    <tr>\n",
       "      <th>E</th>\n",
       "      <td>0.326620</td>\n",
       "      <td>-0.458257</td>\n",
       "      <td>1.269882</td>\n",
       "      <td>-1.499336</td>\n",
       "    </tr>\n",
       "  </tbody>\n",
       "</table>\n",
       "</div>"
      ],
      "text/plain": [
       "          P         Q         R         S\n",
       "A -1.273791  0.620852  0.092272 -0.545843\n",
       "B -1.461032 -0.736882  1.318198 -1.598129\n",
       "C  0.661423 -0.603724 -0.662586 -0.163146\n",
       "D  0.364428  0.019136 -1.158215  0.790234\n",
       "E  0.326620 -0.458257  1.269882 -1.499336"
      ]
     },
     "execution_count": 177,
     "metadata": {},
     "output_type": "execute_result"
    }
   ],
   "source": [
    "# randn: normal distribution (positive and negative values)\n",
    "# np.random.seed(5)\n",
    "pd.DataFrame(np.random.randn(5, 4), index='A B C D E'.split(), columns= \"P Q R S\".split())"
   ]
  },
  {
   "cell_type": "code",
   "execution_count": 195,
   "id": "d0f29952-1f8d-40b5-923b-8d55593aa74a",
   "metadata": {},
   "outputs": [
    {
     "name": "stdout",
     "output_type": "stream",
     "text": [
      "          P         Q         R         S\n",
      "A  0.667536  0.163226  0.119159  0.367234\n",
      "B  0.750007  0.618174  0.138822  0.919497\n",
      "C  0.922283  0.303475  0.180022  0.513056\n",
      "D  0.131925  0.494034  0.585740  0.191216\n",
      "E  0.467193  0.248384  0.850440  0.046406\n",
      "A    0.667536\n",
      "B    0.750007\n",
      "C    0.922283\n",
      "D    0.131925\n",
      "E    0.467193\n",
      "Name: P, dtype: float64\n",
      "          R         S\n",
      "A  0.119159  0.367234\n",
      "B  0.138822  0.919497\n",
      "C  0.180022  0.513056\n",
      "D  0.585740  0.191216\n",
      "E  0.850440  0.046406\n"
     ]
    }
   ],
   "source": [
    "# rand: positive values only\n",
    "df = pd.DataFrame(np.random.rand(5, 4), index=\"A B C D E\".split(), columns=\"P Q R S\".split())\n",
    "print(df)\n",
    "\n",
    "print(df['P'])\n",
    "print(df[['R', 'S']])"
   ]
  },
  {
   "cell_type": "code",
   "execution_count": 207,
   "id": "f0b1cabe-1fbe-4d00-807e-0af524456760",
   "metadata": {},
   "outputs": [
    {
     "name": "stdout",
     "output_type": "stream",
     "text": [
      "<class 'pandas.core.series.Series'>\n",
      "<class 'pandas.core.frame.DataFrame'>\n"
     ]
    }
   ],
   "source": [
    "print(type(df['P']))\n",
    "print(type(df[['P','Q']]))"
   ]
  },
  {
   "cell_type": "code",
   "execution_count": 211,
   "id": "d1071449-ff5e-4112-b7d1-e6c476e6c7a2",
   "metadata": {},
   "outputs": [
    {
     "data": {
      "text/html": [
       "<div>\n",
       "<style scoped>\n",
       "    .dataframe tbody tr th:only-of-type {\n",
       "        vertical-align: middle;\n",
       "    }\n",
       "\n",
       "    .dataframe tbody tr th {\n",
       "        vertical-align: top;\n",
       "    }\n",
       "\n",
       "    .dataframe thead th {\n",
       "        text-align: right;\n",
       "    }\n",
       "</style>\n",
       "<table border=\"1\" class=\"dataframe\">\n",
       "  <thead>\n",
       "    <tr style=\"text-align: right;\">\n",
       "      <th></th>\n",
       "      <th>P</th>\n",
       "      <th>Q</th>\n",
       "      <th>R</th>\n",
       "      <th>S</th>\n",
       "      <th>T</th>\n",
       "    </tr>\n",
       "  </thead>\n",
       "  <tbody>\n",
       "    <tr>\n",
       "      <th>A</th>\n",
       "      <td>0.667536</td>\n",
       "      <td>0.163226</td>\n",
       "      <td>0.119159</td>\n",
       "      <td>0.367234</td>\n",
       "      <td>1</td>\n",
       "    </tr>\n",
       "    <tr>\n",
       "      <th>B</th>\n",
       "      <td>0.750007</td>\n",
       "      <td>0.618174</td>\n",
       "      <td>0.138822</td>\n",
       "      <td>0.919497</td>\n",
       "      <td>2</td>\n",
       "    </tr>\n",
       "    <tr>\n",
       "      <th>C</th>\n",
       "      <td>0.922283</td>\n",
       "      <td>0.303475</td>\n",
       "      <td>0.180022</td>\n",
       "      <td>0.513056</td>\n",
       "      <td>3</td>\n",
       "    </tr>\n",
       "    <tr>\n",
       "      <th>D</th>\n",
       "      <td>0.131925</td>\n",
       "      <td>0.494034</td>\n",
       "      <td>0.585740</td>\n",
       "      <td>0.191216</td>\n",
       "      <td>4</td>\n",
       "    </tr>\n",
       "    <tr>\n",
       "      <th>E</th>\n",
       "      <td>0.467193</td>\n",
       "      <td>0.248384</td>\n",
       "      <td>0.850440</td>\n",
       "      <td>0.046406</td>\n",
       "      <td>5</td>\n",
       "    </tr>\n",
       "  </tbody>\n",
       "</table>\n",
       "</div>"
      ],
      "text/plain": [
       "          P         Q         R         S  T\n",
       "A  0.667536  0.163226  0.119159  0.367234  1\n",
       "B  0.750007  0.618174  0.138822  0.919497  2\n",
       "C  0.922283  0.303475  0.180022  0.513056  3\n",
       "D  0.131925  0.494034  0.585740  0.191216  4\n",
       "E  0.467193  0.248384  0.850440  0.046406  5"
      ]
     },
     "execution_count": 211,
     "metadata": {},
     "output_type": "execute_result"
    }
   ],
   "source": [
    "# Add a new column\n",
    "df[\"T\"] = [1, 2, 3, 4, 5]\n",
    "df"
   ]
  },
  {
   "cell_type": "code",
   "execution_count": 219,
   "id": "c9eb34ed-8473-4706-8beb-bd86b862da73",
   "metadata": {},
   "outputs": [
    {
     "name": "stdout",
     "output_type": "stream",
     "text": [
      "          P         Q         R         S\n",
      "A  0.667536  0.163226  0.119159  0.367234\n",
      "B  0.750007  0.618174  0.138822  0.919497\n",
      "C  0.922283  0.303475  0.180022  0.513056\n",
      "D  0.131925  0.494034  0.585740  0.191216\n",
      "E  0.467193  0.248384  0.850440  0.046406\n",
      "          P         Q         R         S  T\n",
      "A  0.667536  0.163226  0.119159  0.367234  1\n",
      "B  0.750007  0.618174  0.138822  0.919497  2\n",
      "C  0.922283  0.303475  0.180022  0.513056  3\n",
      "E  0.467193  0.248384  0.850440  0.046406  5\n"
     ]
    }
   ],
   "source": [
    "# Drop a row or column (not modifying the original dataframe)\n",
    "print(df.drop(\"T\", axis=1))\n",
    "print(df.drop(\"D\", axis=0))"
   ]
  },
  {
   "cell_type": "code",
   "execution_count": 221,
   "id": "eecc537d-b1ab-468a-b812-cb2a5a871087",
   "metadata": {},
   "outputs": [
    {
     "data": {
      "text/plain": [
       "P    0.667536\n",
       "Q    0.163226\n",
       "R    0.119159\n",
       "S    0.367234\n",
       "T    1.000000\n",
       "Name: A, dtype: float64"
      ]
     },
     "execution_count": 221,
     "metadata": {},
     "output_type": "execute_result"
    }
   ],
   "source": [
    "# Locate a row by label\n",
    "df.loc['A']"
   ]
  },
  {
   "cell_type": "code",
   "execution_count": 225,
   "id": "c62b5b85-a8ca-48bb-a68f-f6193db832b9",
   "metadata": {},
   "outputs": [
    {
     "data": {
      "text/plain": [
       "P    0.922283\n",
       "Q    0.303475\n",
       "R    0.180022\n",
       "S    0.513056\n",
       "T    3.000000\n",
       "Name: C, dtype: float64"
      ]
     },
     "execution_count": 225,
     "metadata": {},
     "output_type": "execute_result"
    }
   ],
   "source": [
    "# Locate a row by index\n",
    "df.iloc[2]"
   ]
  },
  {
   "cell_type": "code",
   "execution_count": 227,
   "id": "58dab918-fe83-4136-bf4a-3185855d11c0",
   "metadata": {},
   "outputs": [
    {
     "data": {
      "text/plain": [
       "0.1388216035841202"
      ]
     },
     "execution_count": 227,
     "metadata": {},
     "output_type": "execute_result"
    }
   ],
   "source": [
    "# Locate a cell by index and column\n",
    "df.loc['B', 'R']"
   ]
  },
  {
   "cell_type": "code",
   "execution_count": 229,
   "id": "ba0884b1-db78-4c4a-bc7e-22097654c8b7",
   "metadata": {},
   "outputs": [
    {
     "data": {
      "text/html": [
       "<div>\n",
       "<style scoped>\n",
       "    .dataframe tbody tr th:only-of-type {\n",
       "        vertical-align: middle;\n",
       "    }\n",
       "\n",
       "    .dataframe tbody tr th {\n",
       "        vertical-align: top;\n",
       "    }\n",
       "\n",
       "    .dataframe thead th {\n",
       "        text-align: right;\n",
       "    }\n",
       "</style>\n",
       "<table border=\"1\" class=\"dataframe\">\n",
       "  <thead>\n",
       "    <tr style=\"text-align: right;\">\n",
       "      <th></th>\n",
       "      <th>R</th>\n",
       "      <th>S</th>\n",
       "    </tr>\n",
       "  </thead>\n",
       "  <tbody>\n",
       "    <tr>\n",
       "      <th>A</th>\n",
       "      <td>0.119159</td>\n",
       "      <td>0.367234</td>\n",
       "    </tr>\n",
       "    <tr>\n",
       "      <th>B</th>\n",
       "      <td>0.138822</td>\n",
       "      <td>0.919497</td>\n",
       "    </tr>\n",
       "  </tbody>\n",
       "</table>\n",
       "</div>"
      ],
      "text/plain": [
       "          R         S\n",
       "A  0.119159  0.367234\n",
       "B  0.138822  0.919497"
      ]
     },
     "execution_count": 229,
     "metadata": {},
     "output_type": "execute_result"
    }
   ],
   "source": [
    "# Locate a part of the dataframe\n",
    "df.loc[['A','B'],['R','S']]"
   ]
  },
  {
   "cell_type": "code",
   "execution_count": 237,
   "id": "4377fc8c-dbb2-420e-8f6f-47e409a0b26a",
   "metadata": {},
   "outputs": [
    {
     "data": {
      "text/plain": [
       "[('A', 1), ('A', 2), ('A', 3), ('B', 1), ('B', 2), ('B', 3)]"
      ]
     },
     "execution_count": 237,
     "metadata": {},
     "output_type": "execute_result"
    }
   ],
   "source": [
    "# Zip: Combine 2 lists\n",
    "a1 = ['A', 'A', 'A', 'B', 'B', 'B']\n",
    "b1 = [1, 2, 3, 1, 2, 3]\n",
    "\n",
    "p = list(zip(a1, b1))\n",
    "p"
   ]
  },
  {
   "cell_type": "code",
   "execution_count": 239,
   "id": "d14de452-13b3-4cb7-91ed-4d5c8d742561",
   "metadata": {},
   "outputs": [
    {
     "data": {
      "text/html": [
       "<div>\n",
       "<style scoped>\n",
       "    .dataframe tbody tr th:only-of-type {\n",
       "        vertical-align: middle;\n",
       "    }\n",
       "\n",
       "    .dataframe tbody tr th {\n",
       "        vertical-align: top;\n",
       "    }\n",
       "\n",
       "    .dataframe thead th {\n",
       "        text-align: right;\n",
       "    }\n",
       "</style>\n",
       "<table border=\"1\" class=\"dataframe\">\n",
       "  <thead>\n",
       "    <tr style=\"text-align: right;\">\n",
       "      <th></th>\n",
       "      <th>X</th>\n",
       "      <th>Y</th>\n",
       "    </tr>\n",
       "  </thead>\n",
       "  <tbody>\n",
       "    <tr>\n",
       "      <th>(A, 1)</th>\n",
       "      <td>0.166971</td>\n",
       "      <td>1.710417</td>\n",
       "    </tr>\n",
       "    <tr>\n",
       "      <th>(A, 2)</th>\n",
       "      <td>-0.506196</td>\n",
       "      <td>0.371051</td>\n",
       "    </tr>\n",
       "    <tr>\n",
       "      <th>(A, 3)</th>\n",
       "      <td>1.143017</td>\n",
       "      <td>0.548831</td>\n",
       "    </tr>\n",
       "    <tr>\n",
       "      <th>(B, 1)</th>\n",
       "      <td>0.341021</td>\n",
       "      <td>0.576256</td>\n",
       "    </tr>\n",
       "    <tr>\n",
       "      <th>(B, 2)</th>\n",
       "      <td>-0.944996</td>\n",
       "      <td>0.019611</td>\n",
       "    </tr>\n",
       "    <tr>\n",
       "      <th>(B, 3)</th>\n",
       "      <td>-1.892134</td>\n",
       "      <td>-0.783534</td>\n",
       "    </tr>\n",
       "  </tbody>\n",
       "</table>\n",
       "</div>"
      ],
      "text/plain": [
       "               X         Y\n",
       "(A, 1)  0.166971  1.710417\n",
       "(A, 2) -0.506196  0.371051\n",
       "(A, 3)  1.143017  0.548831\n",
       "(B, 1)  0.341021  0.576256\n",
       "(B, 2) -0.944996  0.019611\n",
       "(B, 3) -1.892134 -0.783534"
      ]
     },
     "execution_count": 239,
     "metadata": {},
     "output_type": "execute_result"
    }
   ],
   "source": [
    "df = pd.DataFrame(np.random.randn(6, 2), index=p, columns=['X', 'Y'])\n",
    "df"
   ]
  },
  {
   "cell_type": "markdown",
   "id": "d8314dc8-9a28-4822-8a74-d966e3491952",
   "metadata": {},
   "source": [
    "#### ?.  Write a python program to convert a list to series."
   ]
  },
  {
   "cell_type": "code",
   "execution_count": 245,
   "id": "92dcb3fb-1ca6-414a-875c-b5e69474ab53",
   "metadata": {},
   "outputs": [],
   "source": [
    "import pandas as pd"
   ]
  },
  {
   "cell_type": "code",
   "execution_count": 247,
   "id": "44d82d63-2379-4dcf-8da9-921bd5df569e",
   "metadata": {},
   "outputs": [
    {
     "data": {
      "text/plain": [
       "0    2\n",
       "1    3\n",
       "2    4\n",
       "3    5\n",
       "dtype: int64"
      ]
     },
     "execution_count": 247,
     "metadata": {},
     "output_type": "execute_result"
    }
   ],
   "source": [
    "l = [2, 3, 4, 5]\n",
    "pd.Series(l)"
   ]
  },
  {
   "cell_type": "markdown",
   "id": "4be124b2-0886-4ac3-8fda-62de8fa528e0",
   "metadata": {},
   "source": [
    "#### ?.  Write a python program to generate a series of dates from 1st August 2024 to 24 August 2024."
   ]
  },
  {
   "cell_type": "code",
   "execution_count": 251,
   "id": "f64429e4-efc6-4f00-af7c-b75fd3f5b62b",
   "metadata": {},
   "outputs": [],
   "source": [
    "import datetime"
   ]
  },
  {
   "cell_type": "code",
   "execution_count": 261,
   "id": "97d5015a-c2c0-48c7-bc5d-1f45790c0469",
   "metadata": {},
   "outputs": [
    {
     "name": "stdout",
     "output_type": "stream",
     "text": [
      "DatetimeIndex(['2024-08-01', '2024-08-02', '2024-08-03', '2024-08-04',\n",
      "               '2024-08-05', '2024-08-06', '2024-08-07', '2024-08-08',\n",
      "               '2024-08-09', '2024-08-10', '2024-08-11', '2024-08-12',\n",
      "               '2024-08-13', '2024-08-14', '2024-08-15', '2024-08-16',\n",
      "               '2024-08-17', '2024-08-18', '2024-08-19', '2024-08-20',\n",
      "               '2024-08-21', '2024-08-22', '2024-08-23', '2024-08-24'],\n",
      "              dtype='datetime64[ns]', freq='D')\n"
     ]
    }
   ],
   "source": [
    "start = datetime.datetime.strptime(\"01-08-2024\", \"%d-%m-%Y\")\n",
    "end = datetime.datetime.strptime(\"24-08-2024\",\"%d-%m-%Y\")\n",
    "\n",
    "dates = pd.date_range(start, end)        # use len() for no: of days\n",
    "print(dates)"
   ]
  },
  {
   "cell_type": "markdown",
   "id": "3fda2579-fba4-42aa-bf6f-61624dc75ed2",
   "metadata": {},
   "source": [
    "#### ?.  Convert a dictionary into dataframe and display it."
   ]
  },
  {
   "cell_type": "code",
   "execution_count": 267,
   "id": "5587fa4a-c2af-461d-abba-17693e0b2972",
   "metadata": {},
   "outputs": [
    {
     "data": {
      "text/html": [
       "<div>\n",
       "<style scoped>\n",
       "    .dataframe tbody tr th:only-of-type {\n",
       "        vertical-align: middle;\n",
       "    }\n",
       "\n",
       "    .dataframe tbody tr th {\n",
       "        vertical-align: top;\n",
       "    }\n",
       "\n",
       "    .dataframe thead th {\n",
       "        text-align: right;\n",
       "    }\n",
       "</style>\n",
       "<table border=\"1\" class=\"dataframe\">\n",
       "  <thead>\n",
       "    <tr style=\"text-align: right;\">\n",
       "      <th></th>\n",
       "      <th>0</th>\n",
       "      <th>1</th>\n",
       "    </tr>\n",
       "  </thead>\n",
       "  <tbody>\n",
       "    <tr>\n",
       "      <th>0</th>\n",
       "      <td>1</td>\n",
       "      <td>A</td>\n",
       "    </tr>\n",
       "    <tr>\n",
       "      <th>1</th>\n",
       "      <td>2</td>\n",
       "      <td>B</td>\n",
       "    </tr>\n",
       "    <tr>\n",
       "      <th>2</th>\n",
       "      <td>3</td>\n",
       "      <td>C</td>\n",
       "    </tr>\n",
       "    <tr>\n",
       "      <th>3</th>\n",
       "      <td>4</td>\n",
       "      <td>D</td>\n",
       "    </tr>\n",
       "    <tr>\n",
       "      <th>4</th>\n",
       "      <td>5</td>\n",
       "      <td>E</td>\n",
       "    </tr>\n",
       "  </tbody>\n",
       "</table>\n",
       "</div>"
      ],
      "text/plain": [
       "   0  1\n",
       "0  1  A\n",
       "1  2  B\n",
       "2  3  C\n",
       "3  4  D\n",
       "4  5  E"
      ]
     },
     "execution_count": 267,
     "metadata": {},
     "output_type": "execute_result"
    }
   ],
   "source": [
    "d = {\n",
    "    \"1\": \"A\",\n",
    "    \"2\": \"B\",\n",
    "    \"3\": \"C\",\n",
    "    \"4\": \"D\",\n",
    "    \"5\": \"E\",\n",
    "}\n",
    "pd.DataFrame(d.items())"
   ]
  },
  {
   "cell_type": "markdown",
   "id": "d65b77c0-dde6-4adb-92fa-f447ca16caf2",
   "metadata": {},
   "source": [
    "#### ?. Convert a 2D list and convert it into data frame and display it."
   ]
  },
  {
   "cell_type": "code",
   "execution_count": 286,
   "id": "8382d302-b4be-4981-ac7c-b7f69364480c",
   "metadata": {},
   "outputs": [
    {
     "data": {
      "text/html": [
       "<div>\n",
       "<style scoped>\n",
       "    .dataframe tbody tr th:only-of-type {\n",
       "        vertical-align: middle;\n",
       "    }\n",
       "\n",
       "    .dataframe tbody tr th {\n",
       "        vertical-align: top;\n",
       "    }\n",
       "\n",
       "    .dataframe thead th {\n",
       "        text-align: right;\n",
       "    }\n",
       "</style>\n",
       "<table border=\"1\" class=\"dataframe\">\n",
       "  <thead>\n",
       "    <tr style=\"text-align: right;\">\n",
       "      <th></th>\n",
       "      <th>0</th>\n",
       "      <th>1</th>\n",
       "    </tr>\n",
       "  </thead>\n",
       "  <tbody>\n",
       "    <tr>\n",
       "      <th>0</th>\n",
       "      <td>1</td>\n",
       "      <td>2</td>\n",
       "    </tr>\n",
       "    <tr>\n",
       "      <th>1</th>\n",
       "      <td>3</td>\n",
       "      <td>4</td>\n",
       "    </tr>\n",
       "    <tr>\n",
       "      <th>2</th>\n",
       "      <td>5</td>\n",
       "      <td>6</td>\n",
       "    </tr>\n",
       "  </tbody>\n",
       "</table>\n",
       "</div>"
      ],
      "text/plain": [
       "   0  1\n",
       "0  1  2\n",
       "1  3  4\n",
       "2  5  6"
      ]
     },
     "execution_count": 286,
     "metadata": {},
     "output_type": "execute_result"
    }
   ],
   "source": [
    "l = [\n",
    "    [1, 2],\n",
    "    [3, 4],\n",
    "    [5, 6],\n",
    "]\n",
    "df = pd.DataFrame(l)\n",
    "df"
   ]
  }
 ],
 "metadata": {
  "kernelspec": {
   "display_name": "Python 3 (ipykernel)",
   "language": "python",
   "name": "python3"
  },
  "language_info": {
   "codemirror_mode": {
    "name": "ipython",
    "version": 3
   },
   "file_extension": ".py",
   "mimetype": "text/x-python",
   "name": "python",
   "nbconvert_exporter": "python",
   "pygments_lexer": "ipython3",
   "version": "3.12.4"
  }
 },
 "nbformat": 4,
 "nbformat_minor": 5
}
